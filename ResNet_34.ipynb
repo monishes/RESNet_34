{
  "nbformat": 4,
  "nbformat_minor": 0,
  "metadata": {
    "colab": {
      "provenance": []
    },
    "kernelspec": {
      "name": "python3",
      "display_name": "Python 3"
    },
    "language_info": {
      "name": "python"
    }
  },
  "cells": [
    {
      "cell_type": "code",
      "execution_count": 1,
      "metadata": {
        "id": "f8pHPdtXvZou"
      },
      "outputs": [],
      "source": [
        "import numpy as np\n",
        "import pandas as pd\n",
        "import matplotlib.pyplot as plt\n",
        "import tensorflow as tf\n",
        "import keras\n",
        "from keras.models import Sequential\n",
        "from keras.layers import Conv2D,MaxPooling2D,Dense,Flatten,Dropout\n",
        "from tensorflow.keras.optimizers import Adam\n",
        "from keras.callbacks import TensorBoard"
      ]
    },
    {
      "cell_type": "code",
      "source": [
        "class ResidualUnit(keras.layers.Layer):\n",
        "  def __init__(self,filters,strides=1,activation=\"relu\",**kwargs):\n",
        "    super().__init__(**kwargs)\n",
        "    self.activation=keras.activations.get(activation)\n",
        "    self.main_layers=[\n",
        "        keras.layers.Conv2D(filters,3,strides=strides,padding=\"same\",use_bias=False),\n",
        "        keras.layers.BatchNormalization(),\n",
        "        self.activation,\n",
        "        keras.layers.Conv2D(filters,3,strides=1,padding=\"same\",use_bias=False),\n",
        "        keras.layers.BatchNormalization()]\n",
        "    self.skip_layers=[]\n",
        "    if strides>1:\n",
        "      self.skip_layers=[keras.layers.Conv2D(filters,1,strides=strides,padding=\"same\",use_bias=False),\n",
        "                        keras.layers.BatchNormalization()]\n",
        "\n",
        "  def call(self, inputs):\n",
        "    Z=inputs\n",
        "    for layer in self.main_layers:\n",
        "      Z=layer(Z)\n",
        "    skip_Z=inputs\n",
        "    for layer in self.skip_layers:\n",
        "      skip_Z=layer(skip_Z)\n",
        "    return(self.activation(Z+skip_Z))"
      ],
      "metadata": {
        "id": "ZgVLY9iSvwcq"
      },
      "execution_count": 4,
      "outputs": []
    },
    {
      "cell_type": "code",
      "source": [
        "from itertools import filterfalse\n",
        "from keras.layers.normalization.batch_normalization_v1 import BatchNormalization\n",
        "model=keras.models.Sequential()\n",
        "model.add(keras.layers.Conv2D(64,7,strides=2,input_shape=[224,224,3],padding=\"same\",use_bias=False))\n",
        "model.add(keras.layers.BatchNormalization())\n",
        "model.add(keras.layers.Activation(\"relu\"))\n",
        "model.add(keras.layers.MaxPool2D(pool_size=3,strides=2,padding=\"same\"))\n",
        "prev_filters=64\n",
        "for filters in [64]*3 + [128]*4 + [256]*6 + [512]*3:\n",
        "  strides=1 if filters==prev_filters else 2\n",
        "  model.add(ResidualUnit(filters,strides=strides))\n",
        "  prev_filters=filters\n",
        "model.add(keras.layers.GlobalAvgPool2D())\n",
        "model.add(keras.layers.Flatten())\n",
        "model.add(keras.layers.Dense(10,activation=\"softmax\"))"
      ],
      "metadata": {
        "id": "upuGII5iwP9r"
      },
      "execution_count": 5,
      "outputs": []
    },
    {
      "cell_type": "code",
      "source": [],
      "metadata": {
        "id": "yLkBKnIWxrOm"
      },
      "execution_count": null,
      "outputs": []
    }
  ]
}